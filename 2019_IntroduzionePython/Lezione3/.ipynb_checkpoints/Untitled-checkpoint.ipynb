{
 "cells": [
  {
   "cell_type": "markdown",
   "metadata": {},
   "source": [
    "#### approfondimento su if-else. Occhio al valore di return..."
   ]
  },
  {
   "cell_type": "code",
   "execution_count": 17,
   "metadata": {},
   "outputs": [
    {
     "data": {
      "text/plain": [
       "12"
      ]
     },
     "execution_count": 17,
     "metadata": {},
     "output_type": "execute_result"
    }
   ],
   "source": [
    "def valore_assoluto(x):\n",
    "    if x < 0:\n",
    "        valore_assoluto = -x\n",
    "    else:\n",
    "        valore_assoluto = x\n",
    "    return valore_assoluto\n",
    "\n",
    "valore_assoluto(-12)"
   ]
  },
  {
   "cell_type": "code",
   "execution_count": 18,
   "metadata": {},
   "outputs": [
    {
     "data": {
      "text/plain": [
       "12"
      ]
     },
     "execution_count": 18,
     "metadata": {},
     "output_type": "execute_result"
    }
   ],
   "source": [
    "def valore_assoluto(x):\n",
    "    if x < 0:\n",
    "        return -x       \n",
    "    else:\n",
    "        return  x\n",
    "\n",
    "valore_assoluto(-12)"
   ]
  },
  {
   "cell_type": "code",
   "execution_count": 19,
   "metadata": {},
   "outputs": [
    {
     "data": {
      "text/plain": [
       "12"
      ]
     },
     "execution_count": 19,
     "metadata": {},
     "output_type": "execute_result"
    }
   ],
   "source": [
    "def valore_assoluto(x):\n",
    "    if x < 0:\n",
    "        return -x       \n",
    "    return  x\n",
    "\n",
    "valore_assoluto(-12)"
   ]
  },
  {
   "cell_type": "code",
   "execution_count": 12,
   "metadata": {},
   "outputs": [
    {
     "data": {
      "text/plain": [
       "0"
      ]
     },
     "execution_count": 12,
     "metadata": {},
     "output_type": "execute_result"
    }
   ],
   "source": [
    "def valore_assoluto(x):\n",
    "    valore_assoulto=0\n",
    "    if x < 0:\n",
    "        valore_assoluto = -x\n",
    "    else:\n",
    "        valore_assoluto = x\n",
    "    return valore_assoulto\n",
    "\n",
    "valore_assoluto(-12)   # mi produce un errore.... valore_assoluto non esiste al di fuori dello scope dell if-else\n",
    "        "
   ]
  },
  {
   "cell_type": "markdown",
   "metadata": {},
   "source": [
    "#### Scope di una funzione"
   ]
  },
  {
   "cell_type": "code",
   "execution_count": 2,
   "metadata": {},
   "outputs": [
    {
     "ename": "NameError",
     "evalue": "name 'a' is not defined",
     "output_type": "error",
     "traceback": [
      "\u001b[1;31m---------------------------------------------------------------------------\u001b[0m",
      "\u001b[1;31mNameError\u001b[0m                                 Traceback (most recent call last)",
      "\u001b[1;32m<ipython-input-2-4fe940fe2ddd>\u001b[0m in \u001b[0;36m<module>\u001b[1;34m()\u001b[0m\n\u001b[0;32m      3\u001b[0m     \u001b[1;32mreturn\u001b[0m \u001b[0ma\u001b[0m\u001b[1;33m\u001b[0m\u001b[0m\n\u001b[0;32m      4\u001b[0m \u001b[0mfunzione\u001b[0m\u001b[1;33m(\u001b[0m\u001b[1;36m2\u001b[0m\u001b[1;33m)\u001b[0m\u001b[1;33m\u001b[0m\u001b[0m\n\u001b[1;32m----> 5\u001b[1;33m \u001b[0mprint\u001b[0m\u001b[1;33m(\u001b[0m\u001b[0ma\u001b[0m\u001b[1;33m)\u001b[0m    \u001b[1;31m#<---- NameError: name 'a' is not defined\u001b[0m\u001b[1;33m\u001b[0m\u001b[0m\n\u001b[0m",
      "\u001b[1;31mNameError\u001b[0m: name 'a' is not defined"
     ]
    }
   ],
   "source": [
    "def funzione(x):\n",
    "    a=2*x         #<---- questa a non esiste al di fuori della funzione\n",
    "    return a\n",
    "funzione(2)\n",
    "print(a)    #<---- NameError: name 'a' is not defined"
   ]
  },
  {
   "cell_type": "code",
   "execution_count": 9,
   "metadata": {},
   "outputs": [
    {
     "name": "stdout",
     "output_type": "stream",
     "text": [
      "c = 64\n",
      "c = 64\n"
     ]
    }
   ],
   "source": [
    "c=64                  #<---- sono diversi \n",
    "def funzione(x):\n",
    "    c=x               #<----- sono diversi, questa c esiste solo nello scope della funzione\n",
    "    return c\n",
    "#quanto vale c? \n",
    "print(\"c prima =\",c)\n",
    "funzione(12)\n",
    "print(\"c dopo =\",c)"
   ]
  },
  {
   "cell_type": "code",
   "execution_count": 6,
   "metadata": {},
   "outputs": [
    {
     "data": {
      "text/plain": [
       "14"
      ]
     },
     "execution_count": 6,
     "metadata": {},
     "output_type": "execute_result"
    }
   ],
   "source": [
    "c=12\n",
    "def funzione(x):\n",
    "    return c+x   #<--- se python non trova la definizione di c nello scope della funzione,\n",
    "funzione(2)      # lo cerca nello scope dell'elemento che contiene la funzione stessa. E procede in modo gerarchico. "
   ]
  },
  {
   "cell_type": "code",
   "execution_count": 10,
   "metadata": {},
   "outputs": [
    {
     "name": "stdout",
     "output_type": "stream",
     "text": [
      "c prima = 64\n",
      "c dopo = 12\n"
     ]
    }
   ],
   "source": [
    "c=64                  #<---- sono uguali \n",
    "def funzione(x):\n",
    "    global c          # global \n",
    "    c=x               #<----- è la stess c, se la modifico cambia anche quella fuori della funzione\n",
    "    return c\n",
    "#quanto vale c? \n",
    "print(\"c prima =\",c)\n",
    "funzione(12)\n",
    "print(\"c dopo =\",c)"
   ]
  },
  {
   "cell_type": "markdown",
   "metadata": {},
   "source": [
    "### in\n",
    "#### in è una parola chiave con due scopi\n",
    "- controllare se un elemento appartiene a una sequenza (stringa, lista, ...)\n",
    "- nel ciclo for per iterare sugli elementi di una sequenza"
   ]
  },
  {
   "cell_type": "code",
   "execution_count": 20,
   "metadata": {},
   "outputs": [
    {
     "data": {
      "text/plain": [
       "True"
      ]
     },
     "execution_count": 20,
     "metadata": {},
     "output_type": "execute_result"
    }
   ],
   "source": [
    "\"s\" in \"asso\""
   ]
  },
  {
   "cell_type": "code",
   "execution_count": 21,
   "metadata": {},
   "outputs": [
    {
     "data": {
      "text/plain": [
       "True"
      ]
     },
     "execution_count": 21,
     "metadata": {},
     "output_type": "execute_result"
    }
   ],
   "source": [
    "\"as\" in \"asso\""
   ]
  },
  {
   "cell_type": "code",
   "execution_count": 28,
   "metadata": {},
   "outputs": [
    {
     "name": "stdout",
     "output_type": "stream",
     "text": [
      "True\n",
      "True\n"
     ]
    }
   ],
   "source": [
    "# esercizio definite una funzione che prende in input una parola e una lettere e ritorna True se\n",
    "#la lettera non è contenuta nella parola, False altrimenti\n",
    "def funzione1(lettera, parola):\n",
    "    return not (lettera in parola)   #<--- not logico\n",
    "def funzione2(lettera,parola):\n",
    "    return lettera not in parola     # scrittura alternativa\n",
    "print(funzione1(\"a\",\"fer\"))\n",
    "print(funzione2(\"a\",\"fer\"))"
   ]
  },
  {
   "cell_type": "code",
   "execution_count": 23,
   "metadata": {},
   "outputs": [
    {
     "data": {
      "text/plain": [
       "True"
      ]
     },
     "execution_count": 23,
     "metadata": {},
     "output_type": "execute_result"
    }
   ],
   "source": [
    "10 in [10, 23 , 2]"
   ]
  },
  {
   "cell_type": "markdown",
   "metadata": {},
   "source": [
    "### Ciclo for"
   ]
  },
  {
   "cell_type": "code",
   "execution_count": 36,
   "metadata": {},
   "outputs": [],
   "source": [
    "# for <variabile> in <sequenza>:\n",
    "      #codice"
   ]
  },
  {
   "cell_type": "code",
   "execution_count": 22,
   "metadata": {},
   "outputs": [
    {
     "name": "stdout",
     "output_type": "stream",
     "text": [
      "p\n",
      "i\n",
      "p\n",
      "p\n",
      "o\n"
     ]
    }
   ],
   "source": [
    "for x in \"pippo\":  # questo è un ciclo for\n",
    "    print(x)"
   ]
  },
  {
   "cell_type": "markdown",
   "metadata": {},
   "source": [
    "#### Funzione range\n",
    "la funzione range genera una lista di numeri sui quali posso iterare con un ciclo for"
   ]
  },
  {
   "cell_type": "code",
   "execution_count": 31,
   "metadata": {},
   "outputs": [
    {
     "name": "stdout",
     "output_type": "stream",
     "text": [
      "4 5 6 7 8 9 10 11 12 13 14 15 16 17 18 19 20 21 22 "
     ]
    }
   ],
   "source": [
    "for i in range(4,23):\n",
    "    print(i, end=\" \")"
   ]
  },
  {
   "cell_type": "code",
   "execution_count": 32,
   "metadata": {},
   "outputs": [
    {
     "name": "stdout",
     "output_type": "stream",
     "text": [
      "0 1 2 3 4 5 6 7 8 9 10 11 12 13 14 15 16 17 18 19 20 21 22 "
     ]
    }
   ],
   "source": [
    "for i in range(23):\n",
    "    print(i, end=\" \")"
   ]
  },
  {
   "cell_type": "code",
   "execution_count": 34,
   "metadata": {},
   "outputs": [
    {
     "name": "stdout",
     "output_type": "stream",
     "text": [
      "0 2 4 6 8 10 12 14 16 18 20 22 "
     ]
    }
   ],
   "source": [
    "for i in range(0,23,2):\n",
    "    print(i, end=\" \")"
   ]
  },
  {
   "cell_type": "code",
   "execution_count": 35,
   "metadata": {},
   "outputs": [
    {
     "name": "stdout",
     "output_type": "stream",
     "text": [
      "23 21 19 17 15 13 11 9 7 5 3 1 "
     ]
    }
   ],
   "source": [
    "for i in range(23,0,-2):\n",
    "    print(i, end=\" \")"
   ]
  },
  {
   "cell_type": "code",
   "execution_count": null,
   "metadata": {},
   "outputs": [],
   "source": [
    "# Esercizio creare un funzione che prende in input un numero intero positivo e ritorna il numero di fibonacci corrispondente.\n",
    "# Sequenza di fibonacci\n",
    "# s_0 = 1\n",
    "# s_1 = 1\n",
    "# s_n = s_(n-1)+s_(n-2) "
   ]
  },
  {
   "cell_type": "markdown",
   "metadata": {},
   "source": [
    "### Liste\n",
    "#### La lista è una sequenza ordinata di elementi eterogenei e mutabili!!!"
   ]
  },
  {
   "cell_type": "code",
   "execution_count": 37,
   "metadata": {},
   "outputs": [],
   "source": [
    "l = ['ieri', 19, 3.1, [1,2] ]   # possono contenere elementi di tipo diverso."
   ]
  },
  {
   "cell_type": "code",
   "execution_count": 39,
   "metadata": {},
   "outputs": [
    {
     "name": "stdout",
     "output_type": "stream",
     "text": [
      "['ieri', 'ciccio', 3.1, [1, 2]]\n"
     ]
    }
   ],
   "source": [
    "#posso cambiare gli elementi:\n",
    "l[1]=\"ciccio\"\n",
    "print(l)"
   ]
  },
  {
   "cell_type": "code",
   "execution_count": 40,
   "metadata": {},
   "outputs": [
    {
     "data": {
      "text/plain": [
       "['ieri', 'ciccio', 3.1, [1, 2], 'ieri', 'ciccio', 3.1, [1, 2]]"
      ]
     },
     "execution_count": 40,
     "metadata": {},
     "output_type": "execute_result"
    }
   ],
   "source": [
    "l = [\"s\",12]\n",
    "r = [3.45, \"ciao\"]\n",
    "l + r ## concatenazione"
   ]
  },
  {
   "cell_type": "markdown",
   "metadata": {},
   "source": [
    "#### Metodo append"
   ]
  },
  {
   "cell_type": "code",
   "execution_count": 42,
   "metadata": {},
   "outputs": [
    {
     "name": "stdout",
     "output_type": "stream",
     "text": [
      "[23, 3, 4]\n"
     ]
    }
   ],
   "source": [
    "l = [23,3]\n",
    "l.append(4)\n",
    "print(l)"
   ]
  },
  {
   "cell_type": "code",
   "execution_count": null,
   "metadata": {},
   "outputs": [],
   "source": []
  }
 ],
 "metadata": {
  "kernelspec": {
   "display_name": "Python 3",
   "language": "python",
   "name": "python3"
  },
  "language_info": {
   "codemirror_mode": {
    "name": "ipython",
    "version": 3
   },
   "file_extension": ".py",
   "mimetype": "text/x-python",
   "name": "python",
   "nbconvert_exporter": "python",
   "pygments_lexer": "ipython3",
   "version": "3.6.2"
  }
 },
 "nbformat": 4,
 "nbformat_minor": 2
}

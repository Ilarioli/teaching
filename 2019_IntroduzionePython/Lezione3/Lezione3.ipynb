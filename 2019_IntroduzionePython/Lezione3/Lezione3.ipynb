{
 "cells": [
  {
   "cell_type": "markdown",
   "metadata": {},
   "source": [
    "#### Approfondimento su if-else e scope di una funzione. \n",
    "#### Occhio al valore di return..."
   ]
  },
  {
   "cell_type": "code",
   "execution_count": 10,
   "metadata": {},
   "outputs": [
    {
     "data": {
      "text/plain": [
       "12"
      ]
     },
     "execution_count": 10,
     "metadata": {},
     "output_type": "execute_result"
    }
   ],
   "source": [
    "def valore_assoluto(x):        #la parte di codice dove è definita la funzione, è chiamato scope \n",
    "    if x < 0:\n",
    "        valore_assoluto = -x\n",
    "    else:\n",
    "        valore_assoluto = x\n",
    "    return valore_assoluto     # lo scope finisce qui\n",
    "\n",
    "valore_assoluto(-12)          # Siamo fuori dallo scope della funzione valore_assoluto"
   ]
  },
  {
   "cell_type": "code",
   "execution_count": 11,
   "metadata": {},
   "outputs": [
    {
     "data": {
      "text/plain": [
       "12"
      ]
     },
     "execution_count": 11,
     "metadata": {},
     "output_type": "execute_result"
    }
   ],
   "source": [
    "def valore_assoluto(x):\n",
    "    if x < 0:\n",
    "        return -x       \n",
    "    else:\n",
    "        return  x\n",
    "\n",
    "valore_assoluto(-12)"
   ]
  },
  {
   "cell_type": "code",
   "execution_count": 12,
   "metadata": {},
   "outputs": [
    {
     "data": {
      "text/plain": [
       "12"
      ]
     },
     "execution_count": 12,
     "metadata": {},
     "output_type": "execute_result"
    }
   ],
   "source": [
    "def valore_assoluto(x):\n",
    "    if x < 0:\n",
    "        return -x       \n",
    "    return  x\n",
    "\n",
    "valore_assoluto(-12)"
   ]
  },
  {
   "cell_type": "markdown",
   "metadata": {},
   "source": [
    "#### Scope di una funzione"
   ]
  },
  {
   "cell_type": "code",
   "execution_count": 13,
   "metadata": {},
   "outputs": [
    {
     "ename": "NameError",
     "evalue": "name 'a' is not defined",
     "output_type": "error",
     "traceback": [
      "\u001b[0;31m---------------------------------------------------------------------------\u001b[0m",
      "\u001b[0;31mNameError\u001b[0m                                 Traceback (most recent call last)",
      "\u001b[0;32m<ipython-input-13-4fe940fe2ddd>\u001b[0m in \u001b[0;36m<module>\u001b[0;34m\u001b[0m\n\u001b[1;32m      3\u001b[0m     \u001b[0;32mreturn\u001b[0m \u001b[0ma\u001b[0m\u001b[0;34m\u001b[0m\u001b[0;34m\u001b[0m\u001b[0m\n\u001b[1;32m      4\u001b[0m \u001b[0mfunzione\u001b[0m\u001b[0;34m(\u001b[0m\u001b[0;36m2\u001b[0m\u001b[0;34m)\u001b[0m\u001b[0;34m\u001b[0m\u001b[0;34m\u001b[0m\u001b[0m\n\u001b[0;32m----> 5\u001b[0;31m \u001b[0mprint\u001b[0m\u001b[0;34m(\u001b[0m\u001b[0ma\u001b[0m\u001b[0;34m)\u001b[0m    \u001b[0;31m#<---- NameError: name 'a' is not defined\u001b[0m\u001b[0;34m\u001b[0m\u001b[0;34m\u001b[0m\u001b[0m\n\u001b[0m",
      "\u001b[0;31mNameError\u001b[0m: name 'a' is not defined"
     ]
    }
   ],
   "source": [
    "def funzione(x):\n",
    "    a=2*x         #<---- questa a non esiste al di fuori della funzione\n",
    "    return a\n",
    "funzione(2)\n",
    "print(a)    #<---- NameError: name 'a' is not defined"
   ]
  },
  {
   "cell_type": "code",
   "execution_count": null,
   "metadata": {},
   "outputs": [],
   "source": [
    "c=64                  #<---- sono diversi \n",
    "def funzione(x):\n",
    "    c=x               #<----- sono diversi, questa c esiste solo nello scope della funzione\n",
    "    return c\n",
    "#quanto vale c? \n",
    "print(\"c prima =\",c)\n",
    "funzione(12)\n",
    "print(\"c dopo =\",c)"
   ]
  },
  {
   "cell_type": "code",
   "execution_count": null,
   "metadata": {},
   "outputs": [],
   "source": [
    "c=12\n",
    "def funzione(x):\n",
    "    return c+x   #<--- se python non trova la definizione di c nello scope della funzione,\n",
    "funzione(2)      # lo cerca nello scope dell'elemento che contiene la funzione stessa. E procede in modo gerarchico. "
   ]
  },
  {
   "cell_type": "code",
   "execution_count": null,
   "metadata": {},
   "outputs": [],
   "source": [
    "c=64                  #<---- sono uguali \n",
    "def funzione(x):\n",
    "    global c          # global \n",
    "    c=x               #<----- è la stess c, se la modifico cambia anche quella fuori della funzione\n",
    "    return c\n",
    "#quanto vale c? \n",
    "print(\"c prima =\",c)\n",
    "funzione(12)\n",
    "print(\"c dopo =\",c)"
   ]
  },
  {
   "cell_type": "markdown",
   "metadata": {},
   "source": [
    "### in\n",
    "#### in è una parola chiave con due scopi\n",
    "- controllare se un elemento appartiene a una sequenza (stringa, lista, ...)\n",
    "- nel ciclo for per iterare sugli elementi di una sequenza"
   ]
  },
  {
   "cell_type": "code",
   "execution_count": null,
   "metadata": {},
   "outputs": [],
   "source": [
    "\"s\" in \"asso\""
   ]
  },
  {
   "cell_type": "code",
   "execution_count": null,
   "metadata": {},
   "outputs": [],
   "source": [
    "\"as\" in \"asso\""
   ]
  },
  {
   "cell_type": "code",
   "execution_count": null,
   "metadata": {},
   "outputs": [],
   "source": [
    "# esercizio definite una funzione che prende in input una parola e una lettere e ritorna True se\n",
    "#la lettera non è contenuta nella parola, False altrimenti\n",
    "def funzione1(lettera, parola):\n",
    "    return not (lettera in parola)   #<--- not logico\n",
    "def funzione2(lettera,parola):\n",
    "    return lettera not in parola     # scrittura alternativa\n",
    "print(funzione1(\"a\",\"fer\"))\n",
    "print(funzione2(\"a\",\"fer\"))"
   ]
  },
  {
   "cell_type": "code",
   "execution_count": null,
   "metadata": {},
   "outputs": [],
   "source": [
    "10 in [10, 23 , 2]"
   ]
  },
  {
   "cell_type": "markdown",
   "metadata": {},
   "source": [
    "### Ciclo for"
   ]
  },
  {
   "cell_type": "code",
   "execution_count": null,
   "metadata": {},
   "outputs": [],
   "source": [
    "# for <variabile> in <sequenza>:\n",
    "      #codice"
   ]
  },
  {
   "cell_type": "code",
   "execution_count": null,
   "metadata": {},
   "outputs": [],
   "source": [
    "for x in \"pippo\":  # questo è un ciclo for\n",
    "    print(x)"
   ]
  },
  {
   "cell_type": "markdown",
   "metadata": {},
   "source": [
    "#### Funzione range\n",
    "la funzione range genera una lista di numeri sui quali posso iterare con un ciclo for"
   ]
  },
  {
   "cell_type": "code",
   "execution_count": null,
   "metadata": {},
   "outputs": [],
   "source": [
    "for i in range(4,23):\n",
    "    print(i, end=\" \")"
   ]
  },
  {
   "cell_type": "code",
   "execution_count": null,
   "metadata": {},
   "outputs": [],
   "source": [
    "for i in range(23):\n",
    "    print(i, end=\" \")"
   ]
  },
  {
   "cell_type": "code",
   "execution_count": null,
   "metadata": {},
   "outputs": [],
   "source": [
    "for i in range(0,23,2):\n",
    "    print(i, end=\" \")"
   ]
  },
  {
   "cell_type": "code",
   "execution_count": null,
   "metadata": {},
   "outputs": [],
   "source": [
    "for i in range(23,0,-2):\n",
    "    print(i, end=\" \")"
   ]
  },
  {
   "cell_type": "code",
   "execution_count": null,
   "metadata": {},
   "outputs": [],
   "source": [
    "# Esercizio creare un funzione che prende in input un numero intero positivo e ritorna il numero di fibonacci corrispondente.\n",
    "# Sequenza di fibonacci\n",
    "# s_0 = 1\n",
    "# s_1 = 1\n",
    "# s_n = s_(n-1)+s_(n-2) "
   ]
  },
  {
   "cell_type": "code",
   "execution_count": null,
   "metadata": {},
   "outputs": [],
   "source": [
    "\n",
    "# definire la funzione di fibonacci con il ciclo for\n",
    "def fibonacci(n):\n",
    "    a = 0\n",
    "    b = 1\n",
    "    for i in range(0,n):\n",
    "        temp = a\n",
    "        a = b\n",
    "        b = temp + b\n",
    "    return b"
   ]
  },
  {
   "cell_type": "code",
   "execution_count": null,
   "metadata": {},
   "outputs": [],
   "source": [
    "\n",
    "#stampare tutti i numeri multipli di 3 ma non di 4 compresi tra 0 e 120 incluso.\n",
    "\n",
    "for i in range(0,121):\n",
    "    if i%3==0 and i%4!=0:  \n",
    "        print(i)"
   ]
  },
  {
   "cell_type": "markdown",
   "metadata": {},
   "source": [
    "### Liste\n",
    "#### La lista è una sequenza ordinata di elementi eterogenei e mutabili!!!"
   ]
  },
  {
   "cell_type": "code",
   "execution_count": 14,
   "metadata": {},
   "outputs": [
    {
     "data": {
      "text/plain": [
       "[1, 2, 'pippo', 12, 23]"
      ]
     },
     "execution_count": 14,
     "metadata": {},
     "output_type": "execute_result"
    }
   ],
   "source": [
    "l = [\"s\", 1, 2.3] # questa è una lista, si usano le partensi quadre per definirla.\n",
    "[] # questa è una lista vuota\n",
    "list() # questa è una lista vuota, uso il costruttore per definirla \n",
    "l[0]  # accedo al primo elemento della lista (elemento di indice 0)\n",
    "l[-1] # accedo all'ultimo elemento... funziona come nelle stringhe. \n",
    "\"s\" in l # verifico se è elemento è contenuto nella lista\n",
    "[1, 2, \"pippo\"] + [12, 23] # concateno due liste"
   ]
  },
  {
   "cell_type": "markdown",
   "metadata": {},
   "source": [
    "#### operazioni comuni a sequenze (array), li abbiamo già visti per le stringhe!"
   ]
  },
  {
   "cell_type": "code",
   "execution_count": 15,
   "metadata": {},
   "outputs": [
    {
     "data": {
      "text/plain": [
       "[1, 2, 'pippo', 12, 23]"
      ]
     },
     "execution_count": 15,
     "metadata": {},
     "output_type": "execute_result"
    }
   ],
   "source": [
    "\n",
    "l = [\"s\", 1, 2.3]\n",
    "l[0]  # accedo al primo elemento della lista (elemento di indice 0)\n",
    "l[-1] # accedo all'ultimo elemento... funziona come nelle stringhe. \n",
    "\"s\" in l # verifico se è elemento è contenuto nella lista\n",
    "[1, 2, \"pippo\"] + [12, 23] # concateno due liste"
   ]
  },
  {
   "cell_type": "markdown",
   "metadata": {},
   "source": [
    "#### Le liste sono mutabili (posso cambiare i suoi elementi). (ricordate: LE STRINGHE SONO IMMUTABILI!)"
   ]
  },
  {
   "cell_type": "code",
   "execution_count": 16,
   "metadata": {},
   "outputs": [
    {
     "name": "stdout",
     "output_type": "stream",
     "text": [
      "['ciao', 1, 2.3]\n"
     ]
    }
   ],
   "source": [
    "l = [\"s\", 1, 2.3]\n",
    "l[0] = \"ciao\"\n",
    "print(l)"
   ]
  },
  {
   "cell_type": "markdown",
   "metadata": {},
   "source": [
    "#### Cancellare gli elementi da una lista (funzione del)"
   ]
  },
  {
   "cell_type": "code",
   "execution_count": 17,
   "metadata": {},
   "outputs": [
    {
     "name": "stdout",
     "output_type": "stream",
     "text": [
      "['s', 2.3]\n"
     ]
    }
   ],
   "source": [
    "l = [\"s\", 1, 2.3]\n",
    "del(l[1])\n",
    "print(l)"
   ]
  },
  {
   "cell_type": "markdown",
   "metadata": {},
   "source": [
    "#### Aggiungere elementi a una lista (metodo append)"
   ]
  },
  {
   "cell_type": "code",
   "execution_count": 18,
   "metadata": {},
   "outputs": [
    {
     "name": "stdout",
     "output_type": "stream",
     "text": [
      "[23, 3, 4]\n"
     ]
    }
   ],
   "source": [
    "l = [23,3]\n",
    "l.append(4)\n",
    "print(l)"
   ]
  },
  {
   "cell_type": "markdown",
   "metadata": {},
   "source": [
    "#### Stringhe e liste (metodo split)"
   ]
  },
  {
   "cell_type": "code",
   "execution_count": 19,
   "metadata": {},
   "outputs": [
    {
     "name": "stdout",
     "output_type": "stream",
     "text": [
      "['ciao', 'come', 'va', '?']\n"
     ]
    }
   ],
   "source": [
    "frase = \"ciao come va ?\"\n",
    "lista = frase.split()\n",
    "print(lista)"
   ]
  },
  {
   "cell_type": "code",
   "execution_count": 20,
   "metadata": {},
   "outputs": [
    {
     "name": "stdout",
     "output_type": "stream",
     "text": [
      "['ciao', ' come va ?']\n"
     ]
    }
   ],
   "source": [
    "frase = \"ciao, come va ?\"\n",
    "lista = frase.split(\",\")\n",
    "print(lista)"
   ]
  }
 ],
 "metadata": {
  "kernelspec": {
   "display_name": "Python 3",
   "language": "python",
   "name": "python3"
  },
  "language_info": {
   "codemirror_mode": {
    "name": "ipython",
    "version": 3
   },
   "file_extension": ".py",
   "mimetype": "text/x-python",
   "name": "python",
   "nbconvert_exporter": "python",
   "pygments_lexer": "ipython3",
   "version": "3.6.9"
  }
 },
 "nbformat": 4,
 "nbformat_minor": 2
}
